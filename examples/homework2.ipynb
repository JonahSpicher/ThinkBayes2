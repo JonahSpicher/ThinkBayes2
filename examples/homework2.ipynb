{
 "cells": [
  {
   "cell_type": "markdown",
   "metadata": {},
   "source": [
    "# Think Bayes\n",
    "\n",
    "This notebook presents example code and exercise solutions for Think Bayes.\n",
    "\n",
    "Copyright 2016 Allen B. Downey\n",
    "\n",
    "MIT License: https://opensource.org/licenses/MIT"
   ]
  },
  {
   "cell_type": "code",
   "execution_count": 1,
   "metadata": {},
   "outputs": [],
   "source": [
    "# Configure Jupyter so figures appear in the notebook\n",
    "%matplotlib inline\n",
    "\n",
    "# Configure Jupyter to display the assigned value after an assignment\n",
    "%config InteractiveShell.ast_node_interactivity='last_expr_or_assign'\n",
    "\n",
    "# import classes from thinkbayes2\n",
    "from thinkbayes2 import Pmf, Suite, NormalPdf, Cdf\n",
    "\n",
    "import thinkplot\n",
    "import matplotlib.pyplot as plt"
   ]
  },
  {
   "cell_type": "markdown",
   "metadata": {},
   "source": [
    "## Cat allergy problem"
   ]
  },
  {
   "cell_type": "markdown",
   "metadata": {},
   "source": [
    "First, I will solve the cat allergy problem. Below, It is \"solved\" with simulation. The distribution seems to center on 2 or 3 people sneezing, which makes sense given the numbers we are working with (about half of the four allergic guests should sneeze, and about a tenth of the remaining 6 guests should sneeze, adding up to 2.6, if we were to take those probabilities very literally in a way that doesn't make sense)."
   ]
  },
  {
   "cell_type": "code",
   "execution_count": 2,
   "metadata": {},
   "outputs": [],
   "source": [
    "from random import random\n",
    "\n",
    "def flip(p):\n",
    "    return random() < p"
   ]
  },
  {
   "cell_type": "code",
   "execution_count": 3,
   "metadata": {},
   "outputs": [],
   "source": [
    "def dinner_party(num_allergic, num_not, p_a, p_n):\n",
    "    flips = [flip(p_a) for i in range(num_allergic)]+[flip(p_n) for i in range(num_not)]\n",
    "    return sum(flips)"
   ]
  },
  {
   "cell_type": "code",
   "execution_count": 4,
   "metadata": {
    "scrolled": true
   },
   "outputs": [
    {
     "data": {
      "image/png": "[encoded data removed]",
      "text/plain": [
       "<Figure size 432x288 with 1 Axes>"
      ]
     },
     "metadata": {},
     "output_type": "display_data"
    }
   ],
   "source": [
    "sample = [dinner_party(4, 6, 0.5, 0.1) for i in range(100000)]\n",
    "pmf_sample = Pmf(sample)\n",
    "thinkplot.Hist(pmf_sample)"
   ]
  },
  {
   "cell_type": "markdown",
   "metadata": {},
   "source": [
    "Next, I will solve it with convolution. This one will actually be accurate and correct, though considering how many times I ran the simulation, it shouldn't be far off."
   ]
  },
  {
   "cell_type": "code",
   "execution_count": 5,
   "metadata": {},
   "outputs": [],
   "source": [
    "def guest(p):\n",
    "    \"\"\"Where 1 means the guest sneezed, and 0 means they did not. This function shamelessly stolen from the dungeons\n",
    "    prior setup, as were many others.\n",
    "    \"\"\"\n",
    "    return Pmf({1:p, 0:1-p})"
   ]
  },
  {
   "cell_type": "code",
   "execution_count": 6,
   "metadata": {
    "scrolled": true
   },
   "outputs": [
    {
     "data": {
      "image/png": "[encoded data removed]",
      "text/plain": [
       "<Figure size 432x288 with 1 Axes>"
      ]
     },
     "metadata": {},
     "output_type": "display_data"
    }
   ],
   "source": [
    "guest_list = ([guest(0.5)]*4)+([guest(0.1)]*6)\n",
    "dinner_party = sum(guest_list)\n",
    "thinkplot.Hist(pmf_sample, color='C0')\n",
    "thinkplot.Pmf(dinner_party, color='C1')"
   ]
  },
  {
   "cell_type": "markdown",
   "metadata": {},
   "source": [
    "It looks like my simulatiom was pretty accurate. Nice."
   ]
  },
  {
   "cell_type": "markdown",
   "metadata": {},
   "source": [
    "## Gluten Problem"
   ]
  },
  {
   "cell_type": "markdown",
   "metadata": {},
   "source": [
    "I am going to assume that a uniform prior is safe, even though technically the chances of each subject being sensitive probably aren't 50/50. "
   ]
  },
  {
   "cell_type": "code",
   "execution_count": 7,
   "metadata": {},
   "outputs": [],
   "source": [
    "class experiment(Suite):\n",
    "    \n",
    "    def Likelihood(self, data, hypo):\n",
    "        \"\"\"Computes the likelihood of the data under the hypothesis.\n",
    "        \n",
    "        data: notices symptoms or does not notice symptoms\n",
    "        hypo: sensitive or not sensitive\n",
    "        \"\"\"\n",
    "        if data == 'y':\n",
    "            return 0.95 if hypo == 1 else 0.4\n",
    "        else:\n",
    "            return 0.05 if hypo == 1 else 0.6"
   ]
  },
  {
   "cell_type": "code",
   "execution_count": 8,
   "metadata": {
    "scrolled": true
   },
   "outputs": [
    {
     "data": {
      "image/png": "[encoded data removed]",
      "text/plain": [
       "<Figure size 432x288 with 1 Axes>"
      ]
     },
     "metadata": {},
     "output_type": "display_data"
    }
   ],
   "source": [
    "prior = experiment([1,0]) #1 for sensitive vs 0 for not\n",
    "subject_n = prior.Copy()\n",
    "subject_y = prior.Copy()\n",
    "subject_n.Update('n')\n",
    "subject_y.Update('y')\n",
    "\n",
    "subjects = [subject_y]*12+[subject_n]*23\n",
    "full_experiment = sum(subjects)\n",
    "thinkplot.Hist(full_experiment)"
   ]
  },
  {
   "cell_type": "code",
   "execution_count": 9,
   "metadata": {},
   "outputs": [
    {
     "data": {
      "text/plain": [
       "10"
      ]
     },
     "execution_count": 9,
     "metadata": {},
     "output_type": "execute_result"
    }
   ],
   "source": [
    "full_experiment.MAP()"
   ]
  },
  {
   "cell_type": "code",
   "execution_count": 10,
   "metadata": {},
   "outputs": [
    {
     "data": {
      "text/plain": [
       "10.213675213675161"
      ]
     },
     "execution_count": 10,
     "metadata": {},
     "output_type": "execute_result"
    }
   ],
   "source": [
    "full_experiment.Mean()"
   ]
  },
  {
   "cell_type": "code",
   "execution_count": 11,
   "metadata": {},
   "outputs": [
    {
     "data": {
      "text/plain": [
       "(7, 14)"
      ]
     },
     "execution_count": 11,
     "metadata": {},
     "output_type": "execute_result"
    }
   ],
   "source": [
    "full_experiment.CredibleInterval(90)"
   ]
  },
  {
   "cell_type": "markdown",
   "metadata": {
    "collapsed": true
   },
   "source": [
    "Working with the numbers we were given, then, it seems pretty likely that about a third (but a little less) of subjects guessed that the flour contained gluten because of genuine sensitivity. Varying the numbers of course changes this distribution, but not by as much as you would expect."
   ]
  },
  {
   "cell_type": "markdown",
   "metadata": {},
   "source": [
    "## Height Problem"
   ]
  },
  {
   "cell_type": "markdown",
   "metadata": {},
   "source": [
    "I spent a while trying to figure out how to get a probability density function given a mean and a standard distribution. Turns out, that's literally just how this library makes them. Awesome. First, we will make our two height probability density functions, which will be used to compute likelihood."
   ]
  },
  {
   "cell_type": "code",
   "execution_count": 12,
   "metadata": {
    "scrolled": true
   },
   "outputs": [
    {
     "data": {
      "text/plain": [
       "6.967081088855764e-05"
      ]
     },
     "execution_count": 12,
     "metadata": {},
     "output_type": "execute_result"
    },
    {
     "data": {
      "image/png": "[encoded data removed]",
      "text/plain": [
       "<Figure size 432x288 with 1 Axes>"
      ]
     },
     "metadata": {},
     "output_type": "display_data"
    }
   ],
   "source": [
    "m_heightfunc = NormalPdf(178, 7.7)\n",
    "f_heightfunc = NormalPdf(163, 7.3)\n",
    "thinkplot.plot(m_heightfunc)\n",
    "thinkplot.plot(f_heightfunc)\n",
    "m_heightfunc.Density(150)"
   ]
  },
  {
   "cell_type": "markdown",
   "metadata": {},
   "source": [
    "Then, we need a suite class for our person of unknown gender. The likelihood is updated using the PDF. As explained in class, this is sort of cheating, but also sort of allowed, kind of. "
   ]
  },
  {
   "cell_type": "code",
   "execution_count": 13,
   "metadata": {},
   "outputs": [],
   "source": [
    "class person(Suite):\n",
    "    \n",
    "    def Likelihood(self, data, hypo):\n",
    "        \"\"\"Computes the likelihood of the data under the hypothesis.\n",
    "        \n",
    "        data: height in cm\n",
    "        hypo: male or female\n",
    "        \"\"\"\n",
    "        if hypo == 'f':\n",
    "            return f_heightfunc.Density(data)\n",
    "        else:\n",
    "            return m_heightfunc.Density(data)"
   ]
  },
  {
   "cell_type": "code",
   "execution_count": 14,
   "metadata": {},
   "outputs": [
    {
     "data": {
      "text/plain": [
       "0.4667199136812651"
      ]
     },
     "execution_count": 14,
     "metadata": {},
     "output_type": "execute_result"
    },
    {
     "data": {
      "image/png": "[encoded data removed]",
      "text/plain": [
       "<Figure size 432x288 with 1 Axes>"
      ]
     },
     "metadata": {},
     "output_type": "display_data"
    }
   ],
   "source": [
    "someone = person(['m', 'f'])\n",
    "thinkplot.Hist(someone)\n",
    "someone.Update(170)\n",
    "thinkplot.Hist(someone, color='grey')\n",
    "someone['m']"
   ]
  },
  {
   "cell_type": "markdown",
   "metadata": {},
   "source": [
    "So the information that they are 170 cm tall implies that it is slightly more likely that the person is female, with a 46% chance of being male. This makes sense just based on the probably density curves, where for females the curve is slightly higher at 170.\n",
    "\n",
    "To see the effect of multiple heights on the posterior, we can just define a function which gives us the probablity that a given person is a male based on their height, and then evaluate it at each height in the requested range. The result, interestingly enough, looks kind of like a logistic function."
   ]
  },
  {
   "cell_type": "code",
   "execution_count": 15,
   "metadata": {},
   "outputs": [],
   "source": [
    "def find_pmale(height):\n",
    "    s = person(['m', 'f'])\n",
    "    s.Update(height)\n",
    "    return s['m']"
   ]
  },
  {
   "cell_type": "code",
   "execution_count": 16,
   "metadata": {},
   "outputs": [
    {
     "data": {
      "image/png": "[encoded data removed]",
      "text/plain": [
       "<Figure size 432x288 with 1 Axes>"
      ]
     },
     "metadata": {},
     "output_type": "display_data"
    },
    {
     "data": {
      "image/png": "[encoded data removed]",
      "text/plain": [
       "<Figure size 432x288 with 1 Axes>"
      ]
     },
     "metadata": {},
     "output_type": "display_data"
    }
   ],
   "source": [
    "heights = range(150, 200)\n",
    "\n",
    "#Our traditional bar graph\n",
    "\n",
    "ps = []\n",
    "for height in heights:\n",
    "    pmale = find_pmale(height)\n",
    "    ps.append(pmale)\n",
    "    plt.bar(height, pmale)\n",
    "plt.show()\n",
    "\n",
    "#For a line, which is a little easier to see\n",
    "plt.figure()\n",
    "plt.plot(heights, ps)\n",
    "plt.show()"
   ]
  },
  {
   "cell_type": "markdown",
   "metadata": {},
   "source": [
    "## Dungeons and Dragons Problem"
   ]
  },
  {
   "cell_type": "markdown",
   "metadata": {},
   "source": [
    "First, I will shamelessly use the prior code provided for us."
   ]
  },
  {
   "cell_type": "code",
   "execution_count": 17,
   "metadata": {},
   "outputs": [
    {
     "name": "stdout",
     "output_type": "stream",
     "text": [
      "0 5.9049000000000085e-06\n",
      "1 0.00013778100000000018\n",
      "2 0.0014467005000000017\n",
      "3 0.009001692000000009\n",
      "4 0.036756909000000025\n",
      "5 0.10291934520000004\n",
      "6 0.20012094900000005\n",
      "7 0.26682793200000005\n",
      "8 0.2334744405\n",
      "9 0.12106082099999994\n",
      "10 0.028247524899999984\n"
     ]
    }
   ],
   "source": [
    "def coin(p):\n",
    "    return Pmf({1:p, 0:1-p})\n",
    "player = coin(0.7)\n",
    "Party_prior = sum([player]*10)\n",
    "Party_prior.Print()"
   ]
  },
  {
   "cell_type": "markdown",
   "metadata": {},
   "source": [
    "Next, in order to find the likelihood of a given min and max, we need a pmf of the distribution of 3 dice rolls. Computing the probablity of a max is straightforward with this library, I just converted the Pmf to a Cdf, used the max method, then converted back. To get the minimum Pmf, though, I had to work a little harder."
   ]
  },
  {
   "cell_type": "code",
   "execution_count": 18,
   "metadata": {},
   "outputs": [],
   "source": [
    "class Die(Pmf):\n",
    "    def __init__(self, sides):\n",
    "        Pmf.__init__(self)\n",
    "        for x in range(1, sides+1):\n",
    "            self[x]=1/sides\n",
    "        self.Normalize()"
   ]
  },
  {
   "cell_type": "code",
   "execution_count": 19,
   "metadata": {},
   "outputs": [
    {
     "data": {
      "text/plain": [
       "Cdf([ 3  4  5  6  7  8  9 10 11 12 13 14 15 16 17 18], [0.00462963 0.01851852 0.0462963  0.09259259 0.16203704 0.25925926\n",
       " 0.375      0.5        0.625      0.74074074 0.83796296 0.90740741\n",
       " 0.9537037  0.98148148 0.99537037 1.        ])"
      ]
     },
     "execution_count": 19,
     "metadata": {},
     "output_type": "execute_result"
    },
    {
     "data": {
      "image/png": "[encoded data removed]",
      "text/plain": [
       "<Figure size 432x288 with 1 Axes>"
      ]
     },
     "metadata": {},
     "output_type": "display_data"
    }
   ],
   "source": [
    "d6 = Die(6)\n",
    "attribute_dist = sum([d6]*3)\n",
    "thinkplot.hist(attribute_dist)\n",
    "attribute_cdf = attribute_dist.MakeCdf()"
   ]
  },
  {
   "cell_type": "code",
   "execution_count": 20,
   "metadata": {},
   "outputs": [
    {
     "data": {
      "text/plain": [
       "0.9953703703703703"
      ]
     },
     "execution_count": 20,
     "metadata": {},
     "output_type": "execute_result"
    },
    {
     "data": {
      "image/png": "[encoded data removed]",
      "text/plain": [
       "<Figure size 432x288 with 1 Axes>"
      ]
     },
     "metadata": {},
     "output_type": "display_data"
    }
   ],
   "source": [
    "thinkplot.plot(attribute_cdf)\n",
    "attribute_cdf[17]"
   ]
  },
  {
   "cell_type": "code",
   "execution_count": 22,
   "metadata": {},
   "outputs": [
    {
     "data": {
      "image/png": "[encoded data removed]",
      "text/plain": [
       "<Figure size 432x288 with 1 Axes>"
      ]
     },
     "metadata": {},
     "output_type": "display_data"
    }
   ],
   "source": [
    "max_cdf = attribute_cdf.Max(6)\n",
    "max_pmf = max_cdf.MakePmf()\n",
    "thinkplot.hist(max_pmf)"
   ]
  },
  {
   "cell_type": "markdown",
   "metadata": {},
   "source": [
    "Ignore the next several cells. I tried to make a reversed Cdf and get a Pmf from it. I was briefly successful (it gave me a mirrored version of the max distribution) but then something changed and the code no longer works."
   ]
  },
  {
   "cell_type": "code",
   "execution_count": 29,
   "metadata": {},
   "outputs": [],
   "source": [
    "def make_min_cdf(cdf, k):\n",
    "    \"\"\"Gives the minimum of a backwards Cdf, but not backwards in a very good way. This one is kinda weird, its like,\n",
    "    the chances that the value are greater than x, not greater than or equal to.\n",
    "    \"\"\"\n",
    "    new_cdf = cdf.Copy()\n",
    "    new_cdf.ps = reversed([(p)**k for p in cdf.ps])\n",
    "    return cdf"
   ]
  },
  {
   "cell_type": "code",
   "execution_count": 30,
   "metadata": {},
   "outputs": [
    {
     "data": {
      "text/plain": [
       "Cdf([ 3  4  5  6  7  8  9 10 11 12 13 14 15 16 17 18], [0.00462963 0.01851852 0.0462963  0.09259259 0.16203704 0.25925926\n",
       " 0.375      0.5        0.625      0.74074074 0.83796296 0.90740741\n",
       " 0.9537037  0.98148148 0.99537037 1.        ])"
      ]
     },
     "execution_count": 30,
     "metadata": {},
     "output_type": "execute_result"
    }
   ],
   "source": [
    "min_cdf = make_min_cdf(attribute_cdf, 6)"
   ]
  },
  {
   "cell_type": "code",
   "execution_count": 31,
   "metadata": {},
   "outputs": [],
   "source": [
    "def make_min_pmf(min_cdf):\n",
    "    \"\"\"Turns my terrible pseudo cdf into a pmf\n",
    "    \"\"\"\n",
    "    min_pmf = Pmf()\n",
    "    for x in min_cdf.xs:\n",
    "        min_pmf[x] = min_cdf[x-1]-min_cdf[x]\n",
    "    min_pmf[min_cdf.xs[0]] = 1 - min_cdf[min_cdf.xs[0]] #Not sure I need this line but I got nervous\n",
    "    return min_pmf\n",
    "        "
   ]
  },
  {
   "cell_type": "code",
   "execution_count": 32,
   "metadata": {},
   "outputs": [
    {
     "data": {
      "text/plain": [
       "1.1102230246251565e-16"
      ]
     },
     "execution_count": 32,
     "metadata": {},
     "output_type": "execute_result"
    },
    {
     "data": {
      "image/png": "[encoded data removed]",
      "text/plain": [
       "<Figure size 432x288 with 1 Axes>"
      ]
     },
     "metadata": {},
     "output_type": "display_data"
    }
   ],
   "source": [
    "min_pmf = make_min_pmf(min_cdf)\n",
    "thinkplot.Hist(min_pmf)\n",
    "\n",
    "#proof of concept, seems to work.\n",
    "total=0\n",
    "for i in range(2, 19):\n",
    "    total += min_pmf[i]\n",
    "total"
   ]
  },
  {
   "cell_type": "markdown",
   "metadata": {},
   "source": [
    "Now, I can define a subclass with a likelihood function. I can use the cdf.Max method to get the likelihood of a given number being the maximum, and mirror it across the vertical line at 10.5 to get the minimum."
   ]
  },
  {
   "cell_type": "code",
   "execution_count": 33,
   "metadata": {},
   "outputs": [],
   "source": [
    "class Party(Suite):\n",
    "    def Likelihood(self, data, hypo):\n",
    "        \"\"\"\n",
    "        data: (min, max)\n",
    "        hypo: number of players\n",
    "        returns likelihood of the data under the hypothesis\n",
    "        \"\"\"\n",
    "        if hypo < 3:\n",
    "            return 0\n",
    "        \n",
    "        mn, mx = data\n",
    "        \n",
    "        diff = mn-3\n",
    "        equ_max = 18-diff\n",
    "        max_pmf = attribute_cdf.Max(6*hypo).MakePmf()\n",
    "        \n",
    "        #Remnants of my attempt to write code\n",
    "        #min_cdf = make_min_cdf(attribute_cdf, 6*hypo)\n",
    "        #min_pmf = make_min_pmf(min_cdf)\n",
    "        \n",
    "        pmax = max_pmf[mx]\n",
    "        pmin = max_pmf[equ_max]\n",
    "        \n",
    "        return pmin*pmax"
   ]
  },
  {
   "cell_type": "markdown",
   "metadata": {},
   "source": [
    "Now I need to make my weird party subclass have the same prior, then just update it."
   ]
  },
  {
   "cell_type": "code",
   "execution_count": 34,
   "metadata": {},
   "outputs": [
    {
     "data": {
      "image/png": "[encoded data removed]",
      "text/plain": [
       "<Figure size 432x288 with 1 Axes>"
      ]
     },
     "metadata": {},
     "output_type": "display_data"
    }
   ],
   "source": [
    "party_post = Party()\n",
    "for i in range(0, 11):\n",
    "    party_post[i] = Party_prior[i]\n",
    "thinkplot.Hist(Party_prior)\n",
    "data = (5, 16)\n",
    "party_post.Update(data)\n",
    "thinkplot.Hist(party_post, color='grey')"
   ]
  },
  {
   "cell_type": "markdown",
   "metadata": {},
   "source": [
    "This somewhat underwhelming update suggest that seven is still probably the most likely number of players who showed up."
   ]
  }
 ],
 "metadata": {
  "kernelspec": {
   "display_name": "Python 3",
   "language": "python",
   "name": "python3"
  },
  "language_info": {
   "codemirror_mode": {
    "name": "ipython",
    "version": 3
   },
   "file_extension": ".py",
   "mimetype": "text/x-python",
   "name": "python",
   "nbconvert_exporter": "python",
   "pygments_lexer": "ipython3",
   "version": "3.6.5"
  }
 },
 "nbformat": 4,
 "nbformat_minor": 1
}
