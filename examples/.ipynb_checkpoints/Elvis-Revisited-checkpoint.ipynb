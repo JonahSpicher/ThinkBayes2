{
 "cells": [
  {
   "cell_type": "markdown",
   "metadata": {},
   "source": [
    "# Elvis Revisited"
   ]
  },
  {
   "cell_type": "code",
   "execution_count": 14,
   "metadata": {},
   "outputs": [],
   "source": [
    "# Configure Jupyter so figures appear in the notebook\n",
    "%matplotlib inline\n",
    "\n",
    "# Configure Jupyter to display the assigned value after an assignment\n",
    "%config InteractiveShell.ast_node_interactivity='last_expr_or_assign'\n",
    "\n",
    "# import classes from thinkbayes2\n",
    "from thinkbayes2 import Pmf, Suite\n",
    "\n",
    "import thinkplot"
   ]
  },
  {
   "cell_type": "markdown",
   "metadata": {},
   "source": [
    "### The Basic Problem\n",
    "Traditionally, the Elvis problem goes like this:\n",
    "\n",
    "_Elvis Presley had a twin brother who died at birth.  What is the probability that Elvis was an identical twin?_\n",
    "\n",
    "A bit of research reveals that about 8% of twins are monozygous, giving us this (pretty straightforward) prior distribution:"
   ]
  },
  {
   "cell_type": "code",
   "execution_count": 20,
   "metadata": {},
   "outputs": [
    {
     "name": "stderr",
     "output_type": "stream",
     "text": [
      "No handles with labels found to put in legend.\n"
     ]
    },
    {
     "data": {
      "image/png": "[encoded data removed]",
      "text/plain": [
       "<Figure size 432x288 with 1 Axes>"
      ]
     },
     "metadata": {},
     "output_type": "display_data"
    }
   ],
   "source": [
    "twins = Pmf(['Identical', 'Fraternal'])\n",
    "twins['Identical'] = 0.08\n",
    "twins['Fraternal'] = 0.92\n",
    "thinkplot.Hist(twins)\n",
    "thinkplot.Config(xlabel='Type of Twins', ylabel='PMF')"
   ]
  },
  {
   "cell_type": "markdown",
   "metadata": {},
   "source": [
    "Which, of course, suggests intially that the answer to the question is 8%. The clever insight, of course, is that we were given one piece of data: gender. We know that Elvis' twin was a brother. A reasonable assumption to make is that a fraternal twin's gender is not connected to it's twin, giving a likelihood of 0.5 given the data, and that for identical twins, the gender must be the same, giving a likelihood of 1 (technically, identical twins are sometimes born opposite genders, but so infrequently that 1 is a fair approximation).\n",
    "\n",
    "To perform this update, we can just multiply each prior by the new likelihood, and then normalize."
   ]
  },
  {
   "cell_type": "code",
   "execution_count": 28,
   "metadata": {},
   "outputs": [
    {
     "name": "stderr",
     "output_type": "stream",
     "text": [
      "No handles with labels found to put in legend.\n"
     ]
    },
    {
     "name": "stdout",
     "output_type": "stream",
     "text": [
      "Likelihood of Identical Twins: 0.14814814814814814\n"
     ]
    },
    {
     "data": {
      "image/png": "[encoded data removed]",
      "text/plain": [
       "<Figure size 432x288 with 1 Axes>"
      ]
     },
     "metadata": {},
     "output_type": "display_data"
    }
   ],
   "source": [
    "twins_post = twins.Copy()\n",
    "twins_post['Identical'] *= 1 #This line is sort of unnecessary\n",
    "twins_post['Fraternal'] *= 0.5\n",
    "twins_post.Normalize()\n",
    "thinkplot.Hist(twins_post)\n",
    "thinkplot.Hist(twins, color='lightgray')\n",
    "thinkplot.Config(xlabel='x', ylabel='PMF')\n",
    "print('Likelihood of Identical Twins: %s' %twins_post['Identical'])"
   ]
  },
  {
   "cell_type": "markdown",
   "metadata": {},
   "source": [
    "So, it still seems unlikely, but there is now about a 15% chance that Elvis was an indentical twin."
   ]
  },
  {
   "cell_type": "markdown",
   "metadata": {
    "collapsed": true
   },
   "source": [
    "### Additional data?\n",
    "But none of this is new. My argument is that we are given more than just this piece of data, and in fact that this one is relatively minor next to the simultaneously more and less obvious bit of information also in the first sentence: Elvis' brother _died._ \n",
    "\n",
    "Today, the infant mortality rate for identical twins is about 0.4 to 0.5 (found [here](https://www.diffen.com/difference/Fraternal_Twins_vs_Identical_Twins#Risks)). This is much higher than either \"singletons\" or fraternal twins, mostly due to the increased risk of umbilical cord tangling. For fraternal twins, the rate is 20 in 1000, or 0.02(found [here](https://www.nhs.uk/news/pregnancy-and-child/twins-more-likely-to-die-before-first-birthday/). It might actually be more fair to say that the death rate among fraternal twins is about 5 times higher than that of the general poulation, which seems to be true [internationally](https://onlinelibrary.wiley.com/doi/pdf/10.1111/j.1365-3156.2007.01959.x), giving numbers closer to 0.25 in developing nations.). \n",
    "\n",
    "But that information is all for today, and Elvis was not born today; he was born in 1935. Obviously, the modern world will have slightly different infant mortality rates from 1935 Mississippi. Fortunately for us, most of the data we need exists in [this](https://www.cdc.gov/nchs/data/vsushistorical/birthstat_1935.pdf) very commonly cited study, coincidentally done in 1935. It gives us pretty accurate numbers for twins, which tell us that the mortality rate for twins in 1935 in Mississippi was 0.13. Next, we have to extrapolate a little bit. The two numbers I used in the paragraph above this one were both world averages. This means they factor in both rich, developed countries and poorer developing ones. Coincidentally, this seems to give a good approximation for most of the numbers for infant mortality rates in 1935 Mississipi. Overall infant mortality rates match within a couple percentage points, and taking the 5 times overall mortality rate rule into effect, it isn't far off. \n",
    "\n",
    "For this reason (and I want this to be clear), I am making a pretty bold assumption: the world average for identical twin mortality rates is probably about equal to what it was in Mississippi in 1935. The resultin numbers are only as valid as you think that claim is. But, operating on that assumption, we get a Likelihood that he died being an identical twin of 0.45, and a likelihood that he died as a fraternal twin of 0.13. We perform the update:"
   ]
  },
  {
   "cell_type": "code",
   "execution_count": 29,
   "metadata": {},
   "outputs": [
    {
     "name": "stderr",
     "output_type": "stream",
     "text": [
      "No handles with labels found to put in legend.\n"
     ]
    },
    {
     "name": "stdout",
     "output_type": "stream",
     "text": [
      "Likelihood of Identical Twins: 0.3757828810020877\n"
     ]
    },
    {
     "data": {
      "image/png": "[encoded data removed]",
      "text/plain": [
       "<Figure size 432x288 with 1 Axes>"
      ]
     },
     "metadata": {},
     "output_type": "display_data"
    }
   ],
   "source": [
    "twins_post2 = twins_post.Copy()\n",
    "twins_post2['Identical'] *= 0.45\n",
    "twins_post2['Fraternal'] *= 0.13\n",
    "twins_post2.Normalize()\n",
    "thinkplot.Hist(twins_post2)\n",
    "thinkplot.Config(xlabel='x', ylabel='PMF')\n",
    "print('Likelihood of Identical Twins: %s' %twins_post2['Identical'])"
   ]
  },
  {
   "cell_type": "markdown",
   "metadata": {},
   "source": [
    "There is now a 37.5% chance that Elvis was an identical twin. Still not as likely as fraternal, but a definite possibility."
   ]
  },
  {
   "cell_type": "code",
   "execution_count": 30,
   "metadata": {},
   "outputs": [
    {
     "name": "stderr",
     "output_type": "stream",
     "text": [
      "No handles with labels found to put in legend.\n"
     ]
    },
    {
     "name": "stdout",
     "output_type": "stream",
     "text": [
      "Likelihood of Identical Twins: 0.2313624678663239\n"
     ]
    },
    {
     "data": {
      "image/png": "[encoded data removed]",
      "text/plain": [
       "<Figure size 432x288 with 1 Axes>"
      ]
     },
     "metadata": {},
     "output_type": "display_data"
    }
   ],
   "source": [
    "twins_post2 = twins.Copy()\n",
    "twins_post2['Identical'] *= 0.45\n",
    "twins_post2['Fraternal'] *= 0.13\n",
    "twins_post2.Normalize()\n",
    "thinkplot.Hist(twins_post2)\n",
    "thinkplot.Hist(twins, color='lightgray')\n",
    "thinkplot.Config(xlabel='x', ylabel='PMF')\n",
    "print('Likelihood of Identical Twins: %s' %twins_post2['Identical'])"
   ]
  },
  {
   "cell_type": "markdown",
   "metadata": {},
   "source": [
    "This plot shows pretty clearly that the information that Elvis had a dead twin is actually more informative than the information that he had a brother; it alone gives a 23% chance that Elvis was an identical twin."
   ]
  }
 ],
 "metadata": {
  "kernelspec": {
   "display_name": "Python 3",
   "language": "python",
   "name": "python3"
  },
  "language_info": {
   "codemirror_mode": {
    "name": "ipython",
    "version": 3
   },
   "file_extension": ".py",
   "mimetype": "text/x-python",
   "name": "python",
   "nbconvert_exporter": "python",
   "pygments_lexer": "ipython3",
   "version": "3.6.5"
  }
 },
 "nbformat": 4,
 "nbformat_minor": 1
}
